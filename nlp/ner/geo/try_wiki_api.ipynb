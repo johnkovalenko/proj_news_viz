{
 "cells": [
  {
   "cell_type": "markdown",
   "metadata": {},
   "source": [
    "### Try python wiki_api\n",
    "Try to extract conjugations of already collected entities from wikis pages with same names.\n",
    "\n",
    "The following code for entity titled **'Санкт-Петербург'** just to try."
   ]
  },
  {
   "cell_type": "markdown",
   "metadata": {},
   "source": [
    "#### 1. Import module/-s."
   ]
  },
  {
   "cell_type": "code",
   "execution_count": 1,
   "metadata": {},
   "outputs": [],
   "source": [
    "import wikipediaapi\n",
    "from collections import namedtuple"
   ]
  },
  {
   "cell_type": "markdown",
   "metadata": {},
   "source": [
    "#### 2. Declare variables.\n",
    "\n",
    "In final script `ENTITIES` var probably will be extracted right from the, csv line by line."
   ]
  },
  {
   "cell_type": "code",
   "execution_count": 2,
   "metadata": {},
   "outputs": [],
   "source": [
    "ENTITIES = tuple(['Санкт-Петербург', 'Москва', 'Якутск'])\n",
    "\n",
    "# Chars to exclude from text.\n",
    "# Don`t include '-', \n",
    "# because of names like Санкт-Петербург.\n",
    "PUNCTUATION = '!\"#$%&()*+,./:;<=>?@[]^_`{|}~'"
   ]
  },
  {
   "cell_type": "markdown",
   "metadata": {},
   "source": [
    "#### 3. Wiki's part."
   ]
  },
  {
   "cell_type": "markdown",
   "metadata": {},
   "source": [
    "- Create wiki object.\n",
    "- Store wiki's pages.\n",
    "- Get all text of the pages."
   ]
  },
  {
   "cell_type": "code",
   "execution_count": 3,
   "metadata": {},
   "outputs": [],
   "source": [
    "wiki = wikipediaapi.Wikipedia(language='ru')\n",
    "\n",
    "pages = [wiki.page(entity) for entity in ENTITIES]\n",
    "\n",
    "text = [page.text for page in pages]\n",
    "\n",
    "Conjugation = namedtuple('Conjugations', 'entity conjugations')\n",
    "conjugations = len(ENTITIES) * ['entity']"
   ]
  },
  {
   "cell_type": "markdown",
   "metadata": {},
   "source": [
    "#### 4. Check if `ENTITY` is in word\n",
    "\n",
    "If True, then strip it and replace ambiguous chars.\n",
    "Then add processed `word` to `conjugations` set."
   ]
  },
  {
   "cell_type": "code",
   "execution_count": 4,
   "metadata": {},
   "outputs": [],
   "source": [
    "for idx, entity in enumerate(ENTITIES):\n",
    "\n",
    "        matchs = set()\n",
    "\n",
    "        for word in text[idx].split(' '):\n",
    "\n",
    "            if \\\n",
    "               entity in word \\\n",
    "               and word.startswith(entity[:2], 0) \\\n",
    "               and len(word) <  2 * len(entity):\n",
    "\n",
    "                word = word.lower()              \n",
    "\n",
    "                for char in (PUNCTUATION + '\\n' + '»'):\n",
    "                    word = word.replace(char, '')\n",
    "\n",
    "                word = word.strip('—')\n",
    "\n",
    "                matchs.add(word)\n",
    "\n",
    "        sample = Conjugation(ENTITIES[idx], matchs)\n",
    "\n",
    "        conjugations[idx] = sample"
   ]
  },
  {
   "cell_type": "markdown",
   "metadata": {},
   "source": [
    "#### 5. Display conjugations line by line."
   ]
  },
  {
   "cell_type": "code",
   "execution_count": 5,
   "metadata": {},
   "outputs": [
    {
     "name": "stdout",
     "output_type": "stream",
     "text": [
      "\n",
      " САНКТ-ПЕТЕРБУРГ\n",
      "{'санкт-петербургском', 'санкт-петербургу', 'санкт-петербургна', 'санкт-петербургасписок', 'санкт-петербургская', 'санкт-петербург', 'санкт-петербургский', 'санкт-петербургское', 'санкт-петербурге', 'санкт-петербургской', 'санкт-петербурга'}\n",
      "\n",
      " МОСКВА\n",
      "{'москва́', 'москва'}\n",
      "\n",
      " ЯКУТСК\n",
      "{'якутска', 'якутского', 'якутскав', 'якутскв', 'якутск', 'якутском', 'якутске', 'якутская', 'якутску', 'якутскому', 'якутской', 'якутский'}\n"
     ]
    }
   ],
   "source": [
    "for sample in conjugations:\n",
    "    print('\\n', sample.entity.upper())\n",
    "    print(sample.conjugations)"
   ]
  }
 ],
 "metadata": {
  "kernelspec": {
   "display_name": "Python 3",
   "language": "python",
   "name": "python3"
  },
  "language_info": {
   "codemirror_mode": {
    "name": "ipython",
    "version": 3
   },
   "file_extension": ".py",
   "mimetype": "text/x-python",
   "name": "python",
   "nbconvert_exporter": "python",
   "pygments_lexer": "ipython3",
   "version": "3.5.5"
  }
 },
 "nbformat": 4,
 "nbformat_minor": 2
}
